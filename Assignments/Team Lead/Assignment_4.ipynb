{
  "nbformat": 4,
  "nbformat_minor": 0,
  "metadata": {
    "colab": {
      "provenance": [],
      "collapsed_sections": []
    },
    "kernelspec": {
      "name": "python3",
      "display_name": "Python 3"
    },
    "language_info": {
      "name": "python"
    }
  },
  "cells": [
    {
      "cell_type": "markdown",
      "source": [
        "# **Assignment 4**\n",
        "# **Tasks**\n",
        "1. Download the Dataset:- Dataset\n",
        "2. Import required library\n",
        "3. Read dataset and do pre-processing\n",
        "4. Create Model\n",
        "5. Add Layers (LSTM, Dense-(Hidden Layers), Output)\n",
        "6. Compile the Model\n",
        "7. Fit the Model\n",
        "8. Save The Model\n",
        "9. Test The Model"
      ],
      "metadata": {
        "id": "QWDUI7zHT81y"
      }
    },
    {
      "cell_type": "markdown",
      "source": [
        "Load The Data Set"
      ],
      "metadata": {
        "id": "rc_oaqQjUypD"
      }
    },
    {
      "cell_type": "code",
      "execution_count": 1,
      "metadata": {
        "id": "ARuaGB_OT62_"
      },
      "outputs": [],
      "source": [
        "dataset_location = '/content/spam.csv'"
      ]
    },
    {
      "cell_type": "markdown",
      "source": [
        "Import the library"
      ],
      "metadata": {
        "id": "Dq16rFmLU2Qj"
      }
    },
    {
      "cell_type": "code",
      "source": [
        "import pandas as pd\n",
        "import nltk\n",
        "import re\n",
        "import numpy as np\n",
        "from nltk.corpus import stopwords\n",
        "from nltk.stem.porter import PorterStemmer\n",
        "from nltk.translate.ribes_score import word_rank_alignment\n",
        "from numpy.lib.shape_base import split\n",
        "from sklearn import preprocessing\n",
        "from sklearn.feature_extraction.text import CountVectorizer\n",
        "from tensorflow.keras.models import Sequential\n",
        "from sklearn.model_selection import train_test_split\n",
        "from keras.layers import LSTM,Dense,Dropout,Input,Embedding,Activation,Flatten\n",
        "from keras.models import Model\n",
        "import nltk"
      ],
      "metadata": {
        "id": "pbdHyPmpU3xq"
      },
      "execution_count": 2,
      "outputs": []
    },
    {
      "cell_type": "markdown",
      "source": [
        "Read dataset and do preprocessing"
      ],
      "metadata": {
        "id": "DJ_QKXNhU5sA"
      }
    },
    {
      "cell_type": "code",
      "source": [
        "data = pd.read_csv(dataset_location,encoding = \"ISO-8859-1\")\n"
      ],
      "metadata": {
        "id": "JRWjTwpsU7za"
      },
      "execution_count": 3,
      "outputs": []
    },
    {
      "cell_type": "code",
      "source": [
        "data.drop([\"Unnamed: 2\",\"Unnamed: 3\",\"Unnamed: 4\"],axis = 1,inplace = True)\n",
        "data.head()"
      ],
      "metadata": {
        "colab": {
          "base_uri": "https://localhost:8080/",
          "height": 204
        },
        "id": "GUBYkt4AU86u",
        "outputId": "de3726ff-4b5e-435b-fff9-72af11366fd8"
      },
      "execution_count": 4,
      "outputs": [
        {
          "output_type": "execute_result",
          "data": {
            "text/plain": [
              "     v1                                                 v2\n",
              "0   ham  Go until jurong point, crazy.. Available only ...\n",
              "1   ham                      Ok lar... Joking wif u oni...\n",
              "2  spam  Free entry in 2 a wkly comp to win FA Cup fina...\n",
              "3   ham  U dun say so early hor... U c already then say...\n",
              "4   ham  Nah I don't think he goes to usf, he lives aro..."
            ],
            "text/html": [
              "\n",
              "  <div id=\"df-e5f1ca53-8fa0-4ad4-af75-3da1f06d27bf\">\n",
              "    <div class=\"colab-df-container\">\n",
              "      <div>\n",
              "<style scoped>\n",
              "    .dataframe tbody tr th:only-of-type {\n",
              "        vertical-align: middle;\n",
              "    }\n",
              "\n",
              "    .dataframe tbody tr th {\n",
              "        vertical-align: top;\n",
              "    }\n",
              "\n",
              "    .dataframe thead th {\n",
              "        text-align: right;\n",
              "    }\n",
              "</style>\n",
              "<table border=\"1\" class=\"dataframe\">\n",
              "  <thead>\n",
              "    <tr style=\"text-align: right;\">\n",
              "      <th></th>\n",
              "      <th>v1</th>\n",
              "      <th>v2</th>\n",
              "    </tr>\n",
              "  </thead>\n",
              "  <tbody>\n",
              "    <tr>\n",
              "      <th>0</th>\n",
              "      <td>ham</td>\n",
              "      <td>Go until jurong point, crazy.. Available only ...</td>\n",
              "    </tr>\n",
              "    <tr>\n",
              "      <th>1</th>\n",
              "      <td>ham</td>\n",
              "      <td>Ok lar... Joking wif u oni...</td>\n",
              "    </tr>\n",
              "    <tr>\n",
              "      <th>2</th>\n",
              "      <td>spam</td>\n",
              "      <td>Free entry in 2 a wkly comp to win FA Cup fina...</td>\n",
              "    </tr>\n",
              "    <tr>\n",
              "      <th>3</th>\n",
              "      <td>ham</td>\n",
              "      <td>U dun say so early hor... U c already then say...</td>\n",
              "    </tr>\n",
              "    <tr>\n",
              "      <th>4</th>\n",
              "      <td>ham</td>\n",
              "      <td>Nah I don't think he goes to usf, he lives aro...</td>\n",
              "    </tr>\n",
              "  </tbody>\n",
              "</table>\n",
              "</div>\n",
              "      <button class=\"colab-df-convert\" onclick=\"convertToInteractive('df-e5f1ca53-8fa0-4ad4-af75-3da1f06d27bf')\"\n",
              "              title=\"Convert this dataframe to an interactive table.\"\n",
              "              style=\"display:none;\">\n",
              "        \n",
              "  <svg xmlns=\"http://www.w3.org/2000/svg\" height=\"24px\"viewBox=\"0 0 24 24\"\n",
              "       width=\"24px\">\n",
              "    <path d=\"M0 0h24v24H0V0z\" fill=\"none\"/>\n",
              "    <path d=\"M18.56 5.44l.94 2.06.94-2.06 2.06-.94-2.06-.94-.94-2.06-.94 2.06-2.06.94zm-11 1L8.5 8.5l.94-2.06 2.06-.94-2.06-.94L8.5 2.5l-.94 2.06-2.06.94zm10 10l.94 2.06.94-2.06 2.06-.94-2.06-.94-.94-2.06-.94 2.06-2.06.94z\"/><path d=\"M17.41 7.96l-1.37-1.37c-.4-.4-.92-.59-1.43-.59-.52 0-1.04.2-1.43.59L10.3 9.45l-7.72 7.72c-.78.78-.78 2.05 0 2.83L4 21.41c.39.39.9.59 1.41.59.51 0 1.02-.2 1.41-.59l7.78-7.78 2.81-2.81c.8-.78.8-2.07 0-2.86zM5.41 20L4 18.59l7.72-7.72 1.47 1.35L5.41 20z\"/>\n",
              "  </svg>\n",
              "      </button>\n",
              "      \n",
              "  <style>\n",
              "    .colab-df-container {\n",
              "      display:flex;\n",
              "      flex-wrap:wrap;\n",
              "      gap: 12px;\n",
              "    }\n",
              "\n",
              "    .colab-df-convert {\n",
              "      background-color: #E8F0FE;\n",
              "      border: none;\n",
              "      border-radius: 50%;\n",
              "      cursor: pointer;\n",
              "      display: none;\n",
              "      fill: #1967D2;\n",
              "      height: 32px;\n",
              "      padding: 0 0 0 0;\n",
              "      width: 32px;\n",
              "    }\n",
              "\n",
              "    .colab-df-convert:hover {\n",
              "      background-color: #E2EBFA;\n",
              "      box-shadow: 0px 1px 2px rgba(60, 64, 67, 0.3), 0px 1px 3px 1px rgba(60, 64, 67, 0.15);\n",
              "      fill: #174EA6;\n",
              "    }\n",
              "\n",
              "    [theme=dark] .colab-df-convert {\n",
              "      background-color: #3B4455;\n",
              "      fill: #D2E3FC;\n",
              "    }\n",
              "\n",
              "    [theme=dark] .colab-df-convert:hover {\n",
              "      background-color: #434B5C;\n",
              "      box-shadow: 0px 1px 3px 1px rgba(0, 0, 0, 0.15);\n",
              "      filter: drop-shadow(0px 1px 2px rgba(0, 0, 0, 0.3));\n",
              "      fill: #FFFFFF;\n",
              "    }\n",
              "  </style>\n",
              "\n",
              "      <script>\n",
              "        const buttonEl =\n",
              "          document.querySelector('#df-e5f1ca53-8fa0-4ad4-af75-3da1f06d27bf button.colab-df-convert');\n",
              "        buttonEl.style.display =\n",
              "          google.colab.kernel.accessAllowed ? 'block' : 'none';\n",
              "\n",
              "        async function convertToInteractive(key) {\n",
              "          const element = document.querySelector('#df-e5f1ca53-8fa0-4ad4-af75-3da1f06d27bf');\n",
              "          const dataTable =\n",
              "            await google.colab.kernel.invokeFunction('convertToInteractive',\n",
              "                                                     [key], {});\n",
              "          if (!dataTable) return;\n",
              "\n",
              "          const docLinkHtml = 'Like what you see? Visit the ' +\n",
              "            '<a target=\"_blank\" href=https://colab.research.google.com/notebooks/data_table.ipynb>data table notebook</a>'\n",
              "            + ' to learn more about interactive tables.';\n",
              "          element.innerHTML = '';\n",
              "          dataTable['output_type'] = 'display_data';\n",
              "          await google.colab.output.renderOutput(dataTable, element);\n",
              "          const docLink = document.createElement('div');\n",
              "          docLink.innerHTML = docLinkHtml;\n",
              "          element.appendChild(docLink);\n",
              "        }\n",
              "      </script>\n",
              "    </div>\n",
              "  </div>\n",
              "  "
            ]
          },
          "metadata": {},
          "execution_count": 4
        }
      ]
    },
    {
      "cell_type": "code",
      "source": [
        "nltk.download('stopwords',quiet=True)\n",
        "nltk.download('all',quiet=True)"
      ],
      "metadata": {
        "colab": {
          "base_uri": "https://localhost:8080/"
        },
        "id": "2b9SpLSOU-j1",
        "outputId": "5cfd024c-e55e-4c63-d2dd-71ef6c5b71ec"
      },
      "execution_count": 5,
      "outputs": [
        {
          "output_type": "execute_result",
          "data": {
            "text/plain": [
              "True"
            ]
          },
          "metadata": {},
          "execution_count": 5
        }
      ]
    },
    {
      "cell_type": "code",
      "source": [
        "ps = PorterStemmer()\n",
        "input = []"
      ],
      "metadata": {
        "id": "_7IYX5BJVA9X"
      },
      "execution_count": 6,
      "outputs": []
    },
    {
      "cell_type": "code",
      "source": [
        "for i in range(0,5572):\n",
        "  v2 = data['v2'][i]\n",
        "\n",
        "  #removing punctuation\n",
        "  v2 = re.sub('[^a-zA-Z]',' ',v2)\n",
        "\n",
        "  #converting to lower case\n",
        "  v2 = v2.lower()\n",
        "\n",
        "  #splitting the sentence\n",
        "  v2 = v2.split()\n",
        "\n",
        "  #removing the stopwords and stemming\n",
        "  v2 = [ps.stem(word) for word in v2 if not word in set(stopwords.words('english'))]\n",
        "\n",
        "  v2 = ' '.join(v2)\n",
        "\n",
        "  input.append(v2)"
      ],
      "metadata": {
        "id": "dFqaGXnkVCwf"
      },
      "execution_count": 7,
      "outputs": []
    },
    {
      "cell_type": "code",
      "source": [
        "#creating document term matrix\n",
        "cv = CountVectorizer(max_features=2000)\n",
        "x = cv.fit_transform(input).toarray()\n",
        "x.shape"
      ],
      "metadata": {
        "colab": {
          "base_uri": "https://localhost:8080/"
        },
        "id": "rYGw3stbVEDS",
        "outputId": "fcf3387d-9e8b-4484-9596-d7899b6ef8ee"
      },
      "execution_count": 8,
      "outputs": [
        {
          "output_type": "execute_result",
          "data": {
            "text/plain": [
              "(5572, 2000)"
            ]
          },
          "metadata": {},
          "execution_count": 8
        }
      ]
    },
    {
      "cell_type": "code",
      "source": [
        "le = preprocessing.LabelEncoder()\n",
        "\n",
        "data['v1'] = le.fit_transform(data['v1'])\n",
        "data['v1'].unique()\n"
      ],
      "metadata": {
        "colab": {
          "base_uri": "https://localhost:8080/"
        },
        "id": "ObU2JstJVGMY",
        "outputId": "556fd31e-1dac-43da-f9dc-6177109c823e"
      },
      "execution_count": 9,
      "outputs": [
        {
          "output_type": "execute_result",
          "data": {
            "text/plain": [
              "array([0, 1])"
            ]
          },
          "metadata": {},
          "execution_count": 9
        }
      ]
    },
    {
      "cell_type": "code",
      "source": [
        "y = data['v1'].values\n"
      ],
      "metadata": {
        "id": "z0J4swKKVHrd"
      },
      "execution_count": 10,
      "outputs": []
    },
    {
      "cell_type": "code",
      "source": [
        "y = y.reshape(-1,1)"
      ],
      "metadata": {
        "id": "8bbNYIgMVMI6"
      },
      "execution_count": 11,
      "outputs": []
    },
    {
      "cell_type": "code",
      "source": [
        "x_train,x_test,y_train,y_test = train_test_split(x,y,test_size = 0.4)"
      ],
      "metadata": {
        "id": "FzYWbeftVOJO"
      },
      "execution_count": 12,
      "outputs": []
    },
    {
      "cell_type": "markdown",
      "source": [
        "Model building - Adding layers, Compiling model and saving model\n"
      ],
      "metadata": {
        "id": "17OdAITtVU20"
      }
    },
    {
      "cell_type": "code",
      "source": [
        "model = Sequential()"
      ],
      "metadata": {
        "id": "jiu-sesCVP8l"
      },
      "execution_count": 13,
      "outputs": []
    },
    {
      "cell_type": "code",
      "source": [
        "model.add(Dense(1565,activation = \"relu\"))\n",
        "model.add(Dense(3000,activation = \"relu\"))\n",
        "model.add(Dense(1,activation = \"sigmoid\"))\n",
        "model.add(Flatten())"
      ],
      "metadata": {
        "id": "ATa4zBohVRke"
      },
      "execution_count": 14,
      "outputs": []
    },
    {
      "cell_type": "code",
      "source": [
        "model.compile(optimizer = \"adam\",loss = \"binary_crossentropy\", metrics = [\"accuracy\"])"
      ],
      "metadata": {
        "id": "zr8v3BuzVW8w"
      },
      "execution_count": 15,
      "outputs": []
    },
    {
      "cell_type": "code",
      "source": [
        "model.fit(x_train,y_train,epochs = 15)"
      ],
      "metadata": {
        "colab": {
          "base_uri": "https://localhost:8080/"
        },
        "id": "zeHmgW5tVYkT",
        "outputId": "6bf6e7b8-6e33-4a96-ec73-d539e0f3dfba"
      },
      "execution_count": 16,
      "outputs": [
        {
          "output_type": "stream",
          "name": "stdout",
          "text": [
            "Epoch 1/15\n",
            "105/105 [==============================] - 5s 41ms/step - loss: 0.1452 - accuracy: 0.9599\n",
            "Epoch 2/15\n",
            "105/105 [==============================] - 5s 47ms/step - loss: 0.0193 - accuracy: 0.9949\n",
            "Epoch 3/15\n",
            "105/105 [==============================] - 4s 42ms/step - loss: 0.0053 - accuracy: 0.9982\n",
            "Epoch 4/15\n",
            "105/105 [==============================] - 4s 42ms/step - loss: 0.0029 - accuracy: 0.9994\n",
            "Epoch 5/15\n",
            "105/105 [==============================] - 4s 43ms/step - loss: 0.0029 - accuracy: 0.9991\n",
            "Epoch 6/15\n",
            "105/105 [==============================] - 5s 43ms/step - loss: 0.0025 - accuracy: 0.9994\n",
            "Epoch 7/15\n",
            "105/105 [==============================] - 4s 43ms/step - loss: 0.0025 - accuracy: 0.9991\n",
            "Epoch 8/15\n",
            "105/105 [==============================] - 4s 42ms/step - loss: 0.0025 - accuracy: 0.9991\n",
            "Epoch 9/15\n",
            "105/105 [==============================] - 4s 42ms/step - loss: 0.0023 - accuracy: 0.9991\n",
            "Epoch 10/15\n",
            "105/105 [==============================] - 4s 42ms/step - loss: 0.0023 - accuracy: 0.9991\n",
            "Epoch 11/15\n",
            "105/105 [==============================] - 4s 42ms/step - loss: 0.0022 - accuracy: 0.9994\n",
            "Epoch 12/15\n",
            "105/105 [==============================] - 4s 41ms/step - loss: 0.0022 - accuracy: 0.9994\n",
            "Epoch 13/15\n",
            "105/105 [==============================] - 5s 47ms/step - loss: 0.0022 - accuracy: 0.9994\n",
            "Epoch 14/15\n",
            "105/105 [==============================] - 5s 43ms/step - loss: 0.0020 - accuracy: 0.9994\n",
            "Epoch 15/15\n",
            "105/105 [==============================] - 4s 42ms/step - loss: 0.0023 - accuracy: 0.9994\n"
          ]
        },
        {
          "output_type": "execute_result",
          "data": {
            "text/plain": [
              "<keras.callbacks.History at 0x7f309b474190>"
            ]
          },
          "metadata": {},
          "execution_count": 16
        }
      ]
    },
    {
      "cell_type": "code",
      "source": [
        "model.save(\"spam-message-classifier.h5\")"
      ],
      "metadata": {
        "id": "K7ggn3jwVZy8"
      },
      "execution_count": 17,
      "outputs": []
    },
    {
      "cell_type": "markdown",
      "source": [
        "Testing the model"
      ],
      "metadata": {
        "id": "9ft79FNEVbTf"
      }
    },
    {
      "cell_type": "code",
      "source": [
        "ham = \"im donee. come pick me up\"\n",
        "spam = \"WINNER$$$$ SMS REPLY 'WIN'\"\n",
        "message = re.sub('[^a-zA-Z]',' ',spam)\n",
        "message"
      ],
      "metadata": {
        "colab": {
          "base_uri": "https://localhost:8080/",
          "height": 35
        },
        "id": "vApS6lCNVcr0",
        "outputId": "dbf44e1a-89dc-44a6-95d4-562d8dc974cb"
      },
      "execution_count": 18,
      "outputs": [
        {
          "output_type": "execute_result",
          "data": {
            "text/plain": [
              "'WINNER     SMS REPLY  WIN '"
            ],
            "application/vnd.google.colaboratory.intrinsic+json": {
              "type": "string"
            }
          },
          "metadata": {},
          "execution_count": 18
        }
      ]
    },
    {
      "cell_type": "markdown",
      "source": [
        "Testing with spam message"
      ],
      "metadata": {
        "id": "3V9JsY0QVeGo"
      }
    },
    {
      "cell_type": "code",
      "source": [
        "message = message.split()\n",
        "message = [ps.stem(word) for word in message if not word in set(stopwords.words('english')) ]\n",
        "message = ' '.join(message)\n"
      ],
      "metadata": {
        "id": "TekLT7pkVfdX"
      },
      "execution_count": 19,
      "outputs": []
    },
    {
      "cell_type": "code",
      "source": [
        "message1 = cv.transform([message])\n",
        "message1\n"
      ],
      "metadata": {
        "colab": {
          "base_uri": "https://localhost:8080/"
        },
        "id": "7l2IR6KxVhwf",
        "outputId": "591a2698-64d1-4453-d4bd-e4d5846bdbcd"
      },
      "execution_count": 20,
      "outputs": [
        {
          "output_type": "execute_result",
          "data": {
            "text/plain": [
              "<1x2000 sparse matrix of type '<class 'numpy.int64'>'\n",
              "\twith 4 stored elements in Compressed Sparse Row format>"
            ]
          },
          "metadata": {},
          "execution_count": 20
        }
      ]
    },
    {
      "cell_type": "code",
      "source": [
        "TruePredction = model.predict(message1.astype(float))"
      ],
      "metadata": {
        "colab": {
          "base_uri": "https://localhost:8080/"
        },
        "id": "YUPT_j-OVjYP",
        "outputId": "7bdeae3b-7b89-4e03-c90e-718707b2b070"
      },
      "execution_count": 21,
      "outputs": [
        {
          "output_type": "stream",
          "name": "stdout",
          "text": [
            "1/1 [==============================] - 0s 109ms/step\n"
          ]
        }
      ]
    },
    {
      "cell_type": "code",
      "source": [
        "TruePredction > 0.5"
      ],
      "metadata": {
        "colab": {
          "base_uri": "https://localhost:8080/"
        },
        "id": "tSwJ9EEAVkt9",
        "outputId": "6b1323de-7ece-4539-eb82-b60dd1fa389e"
      },
      "execution_count": 22,
      "outputs": [
        {
          "output_type": "execute_result",
          "data": {
            "text/plain": [
              "array([[ True]])"
            ]
          },
          "metadata": {},
          "execution_count": 22
        }
      ]
    },
    {
      "cell_type": "markdown",
      "source": [
        "Testing with normal message"
      ],
      "metadata": {
        "id": "sTdupl-vVmNQ"
      }
    },
    {
      "cell_type": "code",
      "source": [
        "msg = re.sub('[^a-zA-Z]',' ',ham)\n",
        "msg"
      ],
      "metadata": {
        "colab": {
          "base_uri": "https://localhost:8080/",
          "height": 35
        },
        "id": "MPJaeXArVnUy",
        "outputId": "1a99daee-8a99-47d3-acc0-dfbba3dd5166"
      },
      "execution_count": 23,
      "outputs": [
        {
          "output_type": "execute_result",
          "data": {
            "text/plain": [
              "'im donee  come pick me up'"
            ],
            "application/vnd.google.colaboratory.intrinsic+json": {
              "type": "string"
            }
          },
          "metadata": {},
          "execution_count": 23
        }
      ]
    },
    {
      "cell_type": "code",
      "source": [
        "msg = msg.split()\n",
        "msg = [ps.stem(word) for word in msg if not word in set(stopwords.words('english'))]\n",
        "msg = ' '.join(msg)"
      ],
      "metadata": {
        "id": "Ir3kHAwzVojh"
      },
      "execution_count": 24,
      "outputs": []
    },
    {
      "cell_type": "code",
      "source": [
        "msg"
      ],
      "metadata": {
        "colab": {
          "base_uri": "https://localhost:8080/",
          "height": 35
        },
        "id": "0GwUtcjSVp13",
        "outputId": "64bd507b-cfbd-479d-d8ba-233383764f91"
      },
      "execution_count": 25,
      "outputs": [
        {
          "output_type": "execute_result",
          "data": {
            "text/plain": [
              "'im done come pick'"
            ],
            "application/vnd.google.colaboratory.intrinsic+json": {
              "type": "string"
            }
          },
          "metadata": {},
          "execution_count": 25
        }
      ]
    },
    {
      "cell_type": "code",
      "source": [
        "cv.transform([msg])"
      ],
      "metadata": {
        "colab": {
          "base_uri": "https://localhost:8080/"
        },
        "id": "TzitrkjHVs8J",
        "outputId": "87f1edb4-086f-495c-c75b-c98676ef6cfb"
      },
      "execution_count": 26,
      "outputs": [
        {
          "output_type": "execute_result",
          "data": {
            "text/plain": [
              "<1x2000 sparse matrix of type '<class 'numpy.int64'>'\n",
              "\twith 4 stored elements in Compressed Sparse Row format>"
            ]
          },
          "metadata": {},
          "execution_count": 26
        }
      ]
    },
    {
      "cell_type": "code",
      "source": [
        "FalsePredection = model.predict(cv.transform([msg]))"
      ],
      "metadata": {
        "colab": {
          "base_uri": "https://localhost:8080/"
        },
        "id": "iCctm6yzVumJ",
        "outputId": "a1a75726-3857-4912-9942-4f0a21e06abd"
      },
      "execution_count": 27,
      "outputs": [
        {
          "output_type": "stream",
          "name": "stdout",
          "text": [
            "1/1 [==============================] - 0s 68ms/step\n"
          ]
        }
      ]
    },
    {
      "cell_type": "code",
      "source": [
        "FalsePredection > 0.5\n"
      ],
      "metadata": {
        "colab": {
          "base_uri": "https://localhost:8080/"
        },
        "id": "6cc9tLZ_Vw5e",
        "outputId": "13d8e617-688c-43ac-b156-fdf88fa6ca49"
      },
      "execution_count": 28,
      "outputs": [
        {
          "output_type": "execute_result",
          "data": {
            "text/plain": [
              "array([[False]])"
            ]
          },
          "metadata": {},
          "execution_count": 28
        }
      ]
    }
  ]
}